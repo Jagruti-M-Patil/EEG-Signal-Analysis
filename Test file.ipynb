# Load the preprocessed data
interictal_data = np.load('interictal_data.npy')
preictal_data = np.load('preictal_data.npy')

# Define the frequency bands of interest
bands = {'delta': (0.5, 4),
         'theta': (4, 8),
         'alpha': (8, 13),
         'beta': (13, 30),
         'gamma': (30, 50)}

# Define the window size for spectral analysis
window_size = 4  # seconds

# Initialize the SGDC classifier
clf = SGDClassifier(loss='log', penalty='l2', alpha=0.001, max_iter=1000, random_state=42)

# Loop over the data files and train the classifier
for data_file in ['interictal_data.npy', 'preictal_data.npy']:
    data = np.load(data_file)
    for i in range(data.shape[0]):
        for j in range(data.shape[1]):
            channel = data[i,j,:]
            channel_features = []
            for band_name, band_range in bands.items():
                # Apply a band-pass filter to the channel data
                channel_filtered = butter_bandpass_filter(channel, band_range[0], band_range[1])
                # Compute the Welch spectral density estimate
                f, Pxx = welch(channel_filtered, fs=250, nperseg=window_size*250, scaling='spectrum')
                # Extract the mean power in the frequency band of interest
                band_mask = np.logical_and(f >= band_range[0], f <= band_range[1])
                band_power = np.mean(Pxx[band_mask])
                channel_features.append(band_power)
            X = np.array(channel_features).reshape(1,-1)
            y = np.array([int(data_file == 'preictal_data.npy')])
            clf.partial_fit(X, y, classes=[0, 1])

# Save the trained classifier
joblib.dump(clf, 'sgdc_classifier.pkl')
